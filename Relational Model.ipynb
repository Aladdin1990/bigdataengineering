{
 "cells": [
  {
   "cell_type": "markdown",
   "metadata": {},
   "source": [
    "**The Relational Model in Python**"
   ]
  },
  {
   "cell_type": "markdown",
   "metadata": {},
   "source": [
    "Copyright Jens Dittrich & Marcel Maltry, [Big Data Analytics Group](https://bigdata.uni-saarland.de/), [CC-BY-SA](https://creativecommons.org/licenses/by-sa/4.0/legalcode)"
   ]
  },
  {
   "cell_type": "code",
   "execution_count": 1,
   "metadata": {},
   "outputs": [],
   "source": [
    "from ra.csv_utils import load_csv\n",
    "from ra.relation import Relation"
   ]
  },
  {
   "cell_type": "code",
   "execution_count": 2,
   "metadata": {},
   "outputs": [
    {
     "name": "stdout",
     "output_type": "stream",
     "text": [
      "---\n",
      "\u001b[1mfoo\u001b[0m \n",
      "--------------\n",
      "\u001b[1mid     name   \u001b[0m \n",
      "--------------\n",
      "2      Hello  \n",
      "7      World  \n",
      "1      !      \n",
      "\n"
     ]
    }
   ],
   "source": [
    "foo = Relation('foo', [('id', int), ('name', str)])\n",
    "foo.add_tuple( (2,'Hello') )\n",
    "foo.add_tuple( (7,'World') )\n",
    "foo.add_tuple( (1,'!') )\n",
    "\n",
    "foo.print_table()"
   ]
  },
  {
   "cell_type": "markdown",
   "metadata": {},
   "source": [
    "**Again:** Neither the order of rows nor the order of columns carry any meaning in a relation!"
   ]
  },
  {
   "cell_type": "markdown",
   "metadata": {},
   "source": [
    "### IMDB"
   ]
  },
  {
   "cell_type": "code",
   "execution_count": 3,
   "metadata": {},
   "outputs": [
    {
     "data": {
      "text/plain": [
       "['movies_directors.csv',\n",
       " 'actors.csv',\n",
       " 'directors.csv',\n",
       " 'movies_genres.csv',\n",
       " 'directors_genres.csv',\n",
       " 'movies.csv',\n",
       " 'roles.csv']"
      ]
     },
     "execution_count": 3,
     "metadata": {},
     "output_type": "execute_result"
    }
   ],
   "source": [
    "from os import listdir\n",
    "\n",
    "# Data source: https://relational.fit.cvut.cz/dataset/IMDb\n",
    "# Information courtesy of IMDb (http://www.imdb.com). Used with permission.\n",
    "#\n",
    "# Notice: The data can only be used for personal and non-commercial use and must not\n",
    "# be altered/republished/resold/repurposed to create any kind of online/offline\n",
    "# database of movie information (except for individual personal use).\n",
    "\n",
    "path = 'data/IMDb_sample'  \n",
    "# create a list of all files in that directory that end with \"*.csv\":\n",
    "files = [file for file in listdir(path) if file.endswith('.csv')]\n",
    "files"
   ]
  },
  {
   "cell_type": "code",
   "execution_count": 4,
   "metadata": {},
   "outputs": [
    {
     "name": "stdout",
     "output_type": "stream",
     "text": [
      "Reading movies_directors.csv ...\n",
      "Reading actors.csv ...\n",
      "Reading directors.csv ...\n",
      "Reading movies_genres.csv ...\n",
      "Reading directors_genres.csv ...\n",
      "Reading movies.csv ...\n",
      "Reading roles.csv ...\n"
     ]
    }
   ],
   "source": [
    "# load all relations:\n",
    "relations = list()\n",
    "for file in files:\n",
    "    print(\"Reading {} ...\".format(file))  # print currently parsed file\n",
    "    filepath = path + '/' + file  # preappend file name by path\n",
    "    name = file[:-4]  # removes .csv file ending and takes filename as relation name\n",
    "    relation = load_csv(filepath, name, delimiter='\\t')\n",
    "    relations.append(relation)"
   ]
  },
  {
   "cell_type": "code",
   "execution_count": 5,
   "metadata": {
    "scrolled": false
   },
   "outputs": [
    {
     "name": "stdout",
     "output_type": "stream",
     "text": [
      "[movies_directors] : {[ director_id:int, movie_id:int ]}\n",
      "{\n",
      "\t(11652, 322652),\n",
      "\t(43095, 30431),\n",
      "\t(78273, 276217),\n",
      "\t(11652, 256530),\n",
      "\t(43095, 92616),\n",
      "\t(43095, 1711),\n",
      "\t(43095, 176891),\n",
      "\t(43095, 110246),\n",
      "\t(43095, 177019),\n",
      "\t(78273, 223710)\n",
      "\tWARNING: skipping 30 out of 40 tuples...\n",
      "}\n",
      "[actors] : {[ id:int, first_name:str, last_name:str, gender:str ]}\n",
      "{\n",
      "\t(342443, Sean, Nepita, M),\n",
      "\t(809699, Louise J., Taylor, F),\n",
      "\t(65536, Steve, Buscemi, M),\n",
      "\t(590629, Jamie Lee, Curtis, F),\n",
      "\t(199295, Harry, Harvey Jr., M),\n",
      "\t(110901, Jonathan, Daw, M),\n",
      "\t(484826, Vern, Urich, M),\n",
      "\t(635230, Valeria, Golino, F),\n",
      "\t(840317, Yoshiko, Yamaguchi, F),\n",
      "\t(362418, Erik, Parillo, M)\n",
      "\tWARNING: skipping 1081 out of 1091 tuples...\n",
      "}\n",
      "[directors] : {[ id:int, first_name:str, last_name:str ]}\n",
      "{\n",
      "\t(11652, James (I), Cameron),\n",
      "\t(78273, Quentin, Tarantino),\n",
      "\t(43095, Stanley, Kubrick)\n",
      "}\n",
      "[movies_genres] : {[ movie_id:int, genre:str ]}\n",
      "{\n",
      "\t(176711, Thriller),\n",
      "\t(106666, Drama),\n",
      "\t(5306, Thriller),\n",
      "\t(10920, Thriller),\n",
      "\t(310455, War),\n",
      "\t(159665, War),\n",
      "\t(164572, Thriller),\n",
      "\t(176891, Film-Noir),\n",
      "\t(328277, Sci-Fi),\n",
      "\t(176712, Drama)\n",
      "\tWARNING: skipping 92 out of 102 tuples...\n",
      "}\n",
      "[directors_genres] : {[ director_id:int, genre:str, prob:float ]}\n",
      "{\n",
      "\t(11652, Comedy, 0.0833333),\n",
      "\t(43095, Adventure, 0.0625),\n",
      "\t(11652, Sci-Fi, 0.5),\n",
      "\t(43095, Documentary, 0.1875),\n",
      "\t(43095, Horror, 0.0625),\n",
      "\t(11652, Fantasy, 0.0833333),\n",
      "\t(43095, Romance, 0.1875),\n",
      "\t(11652, Romance, 0.25),\n",
      "\t(78273, Crime, 0.5),\n",
      "\t(43095, Thriller, 0.1875)\n",
      "\tWARNING: skipping 25 out of 35 tuples...\n",
      "}\n",
      "[movies] : {[ id:int, name:str, year:int, rank:float ]}\n",
      "{\n",
      "\t(106666, Eyes Wide Shut, 1999, 7.0),\n",
      "\t(30431, Barry Lyndon, 1975, 7.9),\n",
      "\t(291833, Seafarers, The, 1953, 6.3),\n",
      "\t(369522, Xenogenesis, 1978, 3.9),\n",
      "\t(267038, Pulp Fiction, 1994, 8.7),\n",
      "\t(328277, Terminator 2: Judgment Day, 1991, 8.1),\n",
      "\t(127297, Ghosts of the Abyss, 2003, 6.7),\n",
      "\t(250612, Paths of Glory, 1957, 8.6),\n",
      "\t(176891, Killer's Kiss, 1955, 6.6),\n",
      "\t(322652, T2 3-D: Battle Across Time, 1996, 7.4)\n",
      "\tWARNING: skipping 30 out of 40 tuples...\n",
      "}\n",
      "[roles] : {[ actor_id:int, movie_id:int, role:str ]}\n",
      "{\n",
      "\t(472331, 106666, Masked party principal),\n",
      "\t(664711, 310455, Julia (slave woman of Gracchu),\n",
      "\t(459441, 176711, Boss Benta),\n",
      "\t(160622, 328285, Policeman),\n",
      "\t(502273, 5306, Dwight Perry),\n",
      "\t(748340, 10920, Med Tech),\n",
      "\t(110691, 1711, Ape),\n",
      "\t(796029, 176891, Ballerina/Iris),\n",
      "\t(623949, 1711, ),\n",
      "\t(458996, 121538, Marine)\n",
      "\tWARNING: skipping 1196 out of 1206 tuples...\n",
      "}\n"
     ]
    }
   ],
   "source": [
    "# display all relations:\n",
    "maxRowsLimit = 10\n",
    "for rel in relations:\n",
    "    rel.print_set(maxRowsLimit)"
   ]
  },
  {
   "cell_type": "code",
   "execution_count": 6,
   "metadata": {},
   "outputs": [],
   "source": [
    "# define a readable identifier:\n",
    "directors = relations[0]"
   ]
  },
  {
   "cell_type": "markdown",
   "metadata": {},
   "source": [
    "**Two different displays of the same relation (model <--> view):**"
   ]
  },
  {
   "cell_type": "code",
   "execution_count": 7,
   "metadata": {
    "scrolled": false
   },
   "outputs": [
    {
     "name": "stdout",
     "output_type": "stream",
     "text": [
      "[movies_directors] : {[ director_id:int, movie_id:int ]}\n",
      "{\n",
      "\t(11652, 322652),\n",
      "\t(43095, 30431),\n",
      "\t(78273, 276217),\n",
      "\t(11652, 256530),\n",
      "\t(43095, 92616),\n",
      "\t(43095, 1711),\n",
      "\t(43095, 176891),\n",
      "\t(43095, 110246),\n",
      "\t(43095, 177019),\n",
      "\t(78273, 223710)\n",
      "\tWARNING: skipping 30 out of 40 tuples...\n",
      "}\n"
     ]
    }
   ],
   "source": [
    "# 1. as a set:\n",
    "maxRowsLimit = 10\n",
    "directors.print_set(maxRowsLimit)"
   ]
  },
  {
   "cell_type": "code",
   "execution_count": 8,
   "metadata": {},
   "outputs": [
    {
     "name": "stdout",
     "output_type": "stream",
     "text": [
      "----------------\n",
      "\u001b[1mmovies_directors\u001b[0m \n",
      "--------------------------\n",
      "\u001b[1mdirector_id  movie_id     \u001b[0m \n",
      "--------------------------\n",
      "11652        322652       \n",
      "43095        30431        \n",
      "78273        276217       \n",
      "11652        256530       \n",
      "43095        92616        \n",
      "43095        1711         \n",
      "43095        176891       \n",
      "43095        110246       \n",
      "43095        177019       \n",
      "78273        223710       \n",
      "\n",
      "WARNING: skipping 30 out of 40 tuples...\n"
     ]
    }
   ],
   "source": [
    "# 2. tabular:\n",
    "directors.print_table(10)"
   ]
  },
  {
   "cell_type": "markdown",
   "metadata": {},
   "source": [
    "# Exercise"
   ]
  },
  {
   "cell_type": "markdown",
   "metadata": {},
   "source": [
    "Extend class Relation to support keys and check for duplicates of keys when adding tuples:"
   ]
  },
  {
   "cell_type": "code",
   "execution_count": 9,
   "metadata": {},
   "outputs": [],
   "source": [
    "# upload the contents of this cell to our CMS as a text file\n",
    "\n",
    "# a relation subclass respecting key constraints:\n",
    "class KeyRelation(Relation):\n",
    "    # keys: names of the key attributes as a list\n",
    "    def __init__(self, name, schema, keys):\n",
    "        super().__init__(name, schema)\n",
    "        \n",
    "        # assert that the list of keys is subset-equal self-attributes:\n",
    "        assert set(keys) <= set(self.attributes)\n",
    "        # make sure that at least one key attribute is defined:\n",
    "        assert len(keys) >= 1\n",
    "        \n",
    "        # add your code here!\n",
    "        # ...\n",
    "        # initialize data structures that are required\n",
    "        # to check the key constraint for new tuples\n",
    "        pass\n",
    "        \n",
    "    def add_tuple(self, tup):\n",
    "        # add your code here!\n",
    "        # ...\n",
    "        # check if there is a tuple with the same key in the relation\n",
    "        # only insert it using super().add_tuple(tup) if there is not.\n",
    "        # raise a ValueError if the key is already present.\n",
    "        # Make sure to perform your check in O(1) time!\n",
    "        pass\n",
    "        \n",
    "    def print_schema(self):\n",
    "        super().print_schema()\n",
    "        # add your code here!\n",
    "        # ...\n",
    "        # should also print the key attributes\n",
    "        pass"
   ]
  },
  {
   "cell_type": "markdown",
   "metadata": {},
   "source": [
    "### Unit Test for Relation\n",
    "\n",
    "Note that test cases are by no means exhaustive!"
   ]
  },
  {
   "cell_type": "code",
   "execution_count": 10,
   "metadata": {},
   "outputs": [],
   "source": [
    "import unittest\n",
    "\n",
    "class RelationTest(unittest.TestCase):\n",
    "\n",
    "    def setUp(self):\n",
    "        self.foo = Relation('foo', [('id', int), ('name', str)])\n",
    "        self.foo.add_tuple( (2,'Hello') )\n",
    "        self.foo.add_tuple( (7,'World') )\n",
    "        self.foo.add_tuple( (1,'!') )\n",
    "\n",
    "        self.bar = Relation('bar', [('a', int), ('b', int), ('c', int), ('d', int)])\n",
    "        self.bar.add_tuple( (1, 2, 3, 4) )\n",
    "        self.bar.add_tuple( (2, 2, 3, 4) )\n",
    "        self.bar.add_tuple( (3, 2, 3, 4) )\n",
    "        self.bar.add_tuple( (4, 2, 3, 4) )\n",
    "        self.bar.add_tuple( (5, 2, 3, 4) )\n",
    "        \n",
    "    def test_size(self):\n",
    "        # foo should contain 3 tuples\n",
    "        self.assertEqual(len(self.foo), 3)\n",
    "        # check valid insert\n",
    "        self.assertTrue(self.foo.add_tuple( (3, '?') ))\n",
    "        self.assertEqual(len(self.foo), 4)\n",
    "        # check duplicate insert\n",
    "        self.assertFalse(self.foo.add_tuple( (1,'!') ))\n",
    "        self.assertEqual(len(self.foo), 4)\n",
    "        \n",
    "        # bar should contain 5 tuples\n",
    "        self.assertEqual(len(self.bar), 5)\n",
    "        # check valid insert\n",
    "        self.assertTrue(self.bar.add_tuple( (6, 2, 3, 4) ))\n",
    "        self.assertEqual(len(self.bar), 6)\n",
    "        # check duplicate insert\n",
    "        self.assertFalse(self.bar.add_tuple( (5, 2, 3, 4) ))\n",
    "        self.assertEqual(len(self.bar), 6)\n",
    "    \n",
    "    def test_schema(self):\n",
    "        # incorrectly typed tuple\n",
    "        with self.assertRaises(AssertionError):\n",
    "            self.foo.add_tuple( ('wrong order', 42) )\n",
    "        with self.assertRaises(AssertionError):\n",
    "            self.foo.add_tuple( (0.1, 'wrong type') )\n",
    "        # inccorectly sized tuples\n",
    "        with self.assertRaises(AssertionError):\n",
    "            self.foo.add_tuple( (6, 'wrong size', 12) )\n",
    "        with self.assertRaises(AssertionError):\n",
    "            self.foo.add_tuple( (42,) )\n",
    "        \n",
    "        # incorrectly typed tuple\n",
    "        with self.assertRaises(AssertionError):\n",
    "            self.bar.add_tuple( (0.1, 0.2, 0.3, 0.4) )\n",
    "        with self.assertRaises(AssertionError):\n",
    "            self.bar.add_tuple( ('1', '3', '2', '4') )\n",
    "        # incorrectly sized\n",
    "        with self.assertRaises(AssertionError):\n",
    "            self.bar.add_tuple( (1, 2, 4, 5, 6) )\n",
    "        with self.assertRaises(AssertionError):\n",
    "            self.bar.add_tuple( (1, 2, 4) )"
   ]
  },
  {
   "cell_type": "markdown",
   "metadata": {},
   "source": [
    "### Unit Test for KeyRelation\n",
    "\n",
    "Note that test cases are by no means exhaustive!"
   ]
  },
  {
   "cell_type": "code",
   "execution_count": 11,
   "metadata": {},
   "outputs": [],
   "source": [
    "class KeyRelationTest(unittest.TestCase):\n",
    "    \n",
    "    def setUp(self):\n",
    "        keys = ['id']\n",
    "        self.foo = KeyRelation('foo', [('id', int), ('name', str)], keys)\n",
    "        self.foo.add_tuple( (1, 'first') )\n",
    "        self.foo.add_tuple( (2, 'second') )\n",
    "        self.foo.add_tuple( (3, 'thrid') )\n",
    "        \n",
    "        keys = ['a', 'c']\n",
    "        self.bar = KeyRelation('bar', [('a', int), ('b', int), ('c', int), ('d', int)], keys)\n",
    "        self.bar.add_tuple( (1, 2, 1, 3) )\n",
    "        self.bar.add_tuple( (1, 3, 2, 1) )\n",
    "        self.bar.add_tuple( (2, 3, 2, 1) )\n",
    "        self.bar.add_tuple( (2, 3, 1, 2) )\n",
    "        \n",
    "    def test_size(self):\n",
    "        # foo should contain 3 tuples\n",
    "        self.assertEqual(len(self.foo), 3)\n",
    "        # check valid insert\n",
    "        self.foo.add_tuple( (4, 'fourth') )\n",
    "        self.assertEqual(len(self.foo), 4)\n",
    "        # check duplicate key insert\n",
    "        with self.assertRaises(ValueError):\n",
    "            self.foo.add_tuple( (1, 'one') ) # should raise ValueError  \n",
    "        self.assertEqual(len(self.foo), 4)  # should not add tuple\n",
    "        # check duplicate tuple insert\n",
    "        with self.assertRaises(ValueError):\n",
    "            self.foo.add_tuple( (1,'first') )  #should raise ValueError\n",
    "        self.assertEqual(len(self.foo), 4)  # should not add tuple\n",
    "        \n",
    "        # bar should contain 4 tuples\n",
    "        self.assertEqual(len(self.bar), 4)\n",
    "        # check valid insert\n",
    "        self.bar.add_tuple( (3, 1, 2, 3) )\n",
    "        self.assertEqual(len(self.bar), 5)\n",
    "        # check duplicate key insert\n",
    "        with self.assertRaises(ValueError):\n",
    "            self.bar.add_tuple( (1, 3, 1, 2) )  # should raise ValueError\n",
    "        self.assertEqual(len(self.bar), 5)  # should not add tuple\n",
    "        # check duplicate tuple insert\n",
    "        with self.assertRaises(ValueError):\n",
    "            self.bar.add_tuple( (2, 3, 1, 2) )  # should raise ValueError\n",
    "        self.assertEqual(len(self.bar), 5)  # should not add tuple\n",
    "    \n",
    "    def test_schema(self):\n",
    "        # incorrectly typed tuple\n",
    "        with self.assertRaises(AssertionError):\n",
    "            self.foo.add_tuple( ('seventh', 7) )\n",
    "        with self.assertRaises(AssertionError):\n",
    "            self.foo.add_tuple( (0.1, 'zero point first') )\n",
    "        # inccorectly sized tuples\n",
    "        with self.assertRaises(AssertionError):\n",
    "            self.foo.add_tuple( (42, 'oops', 12) )\n",
    "        with self.assertRaises(AssertionError):\n",
    "            self.foo.add_tuple( (43,) )\n",
    "        \n",
    "        # incorrectly typed tuple\n",
    "        with self.assertRaises(AssertionError):\n",
    "            self.bar.add_tuple( (0.1, 0.2, 0.3, 0.4) )\n",
    "        with self.assertRaises(AssertionError):\n",
    "            self.bar.add_tuple( ('1', '3', '2', '4') )\n",
    "        # incorrectly sized\n",
    "        with self.assertRaises(AssertionError):\n",
    "            self.bar.add_tuple( (1, 2, 4, 5, 6) )\n",
    "        with self.assertRaises(AssertionError):\n",
    "            self.bar.add_tuple( (1, 2, 4) )"
   ]
  },
  {
   "cell_type": "code",
   "execution_count": 12,
   "metadata": {},
   "outputs": [
    {
     "name": "stderr",
     "output_type": "stream",
     "text": [
      "test_schema (__main__.KeyRelationTest) ... FAIL\n",
      "test_size (__main__.KeyRelationTest) ... FAIL\n",
      "test_schema (__main__.RelationTest) ... ok\n",
      "test_size (__main__.RelationTest) ... ok\n",
      "\n",
      "======================================================================\n",
      "FAIL: test_schema (__main__.KeyRelationTest)\n",
      "----------------------------------------------------------------------\n",
      "Traceback (most recent call last):\n",
      "  File \"<ipython-input-11-fc8a6f390d61>\", line 49, in test_schema\n",
      "    self.foo.add_tuple( ('seventh', 7) )\n",
      "AssertionError: AssertionError not raised\n",
      "\n",
      "======================================================================\n",
      "FAIL: test_size (__main__.KeyRelationTest)\n",
      "----------------------------------------------------------------------\n",
      "Traceback (most recent call last):\n",
      "  File \"<ipython-input-11-fc8a6f390d61>\", line 19, in test_size\n",
      "    self.assertEqual(len(self.foo), 3)\n",
      "AssertionError: 0 != 3\n",
      "\n",
      "----------------------------------------------------------------------\n",
      "Ran 4 tests in 0.005s\n",
      "\n",
      "FAILED (failures=2)\n"
     ]
    },
    {
     "data": {
      "text/plain": [
       "<unittest.main.TestProgram at 0x10aaabc88>"
      ]
     },
     "execution_count": 12,
     "metadata": {},
     "output_type": "execute_result"
    }
   ],
   "source": [
    "# Run the unit test without shutting down the jupyter kernel\n",
    "unittest.main(argv=['ignored', '-v'], verbosity=2, exit=False)"
   ]
  }
 ],
 "metadata": {
  "kernelspec": {
   "display_name": "Python 3",
   "language": "python",
   "name": "python3"
  },
  "language_info": {
   "codemirror_mode": {
    "name": "ipython",
    "version": 3
   },
   "file_extension": ".py",
   "mimetype": "text/x-python",
   "name": "python",
   "nbconvert_exporter": "python",
   "pygments_lexer": "ipython3",
   "version": "3.6.5"
  },
  "varInspector": {
   "cols": {
    "lenName": 16,
    "lenType": 16,
    "lenVar": 40
   },
   "kernels_config": {
    "python": {
     "delete_cmd_postfix": "",
     "delete_cmd_prefix": "del ",
     "library": "var_list.py",
     "varRefreshCmd": "print(var_dic_list())"
    },
    "r": {
     "delete_cmd_postfix": ") ",
     "delete_cmd_prefix": "rm(",
     "library": "var_list.r",
     "varRefreshCmd": "cat(var_dic_list()) "
    }
   },
   "types_to_exclude": [
    "module",
    "function",
    "builtin_function_or_method",
    "instance",
    "_Feature"
   ],
   "window_display": false
  }
 },
 "nbformat": 4,
 "nbformat_minor": 2
}
